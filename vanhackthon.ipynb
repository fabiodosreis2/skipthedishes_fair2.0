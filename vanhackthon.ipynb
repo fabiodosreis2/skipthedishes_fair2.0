{
 "cells": [
  {
   "cell_type": "code",
   "execution_count": 138,
   "metadata": {},
   "outputs": [],
   "source": [
    "import pandas as pd\n",
    "import numpy as np"
   ]
  },
  {
   "cell_type": "markdown",
   "metadata": {},
   "source": [
    "## Read the dataset and make some cleaning"
   ]
  },
  {
   "cell_type": "code",
   "execution_count": 238,
   "metadata": {},
   "outputs": [],
   "source": [
    "df = pd.read_csv('food_coded.csv')"
   ]
  },
  {
   "cell_type": "code",
   "execution_count": 239,
   "metadata": {},
   "outputs": [],
   "source": [
    "df['healthy_meal'] = df.healthy_meal.str.lower()\n",
    "df['healthy_meal'] = df.healthy_meal.str.replace('[\\.,&;\\(\\)]', '')"
   ]
  },
  {
   "cell_type": "code",
   "execution_count": 240,
   "metadata": {},
   "outputs": [
    {
     "data": {
      "text/plain": [
       "0                                        looks not oily \n",
       "1      grains veggies more of grains and veggies smal...\n",
       "2      usually includes natural ingredients nonproces...\n",
       "3                 fresh fruits vegetables organic meats \n",
       "4      a lean protein such as grilled chicken green v...\n",
       "5             requires veggies fruits and a cooked meal \n",
       "6                protein vegetables fruit and some carbs\n",
       "7      a healthy meal has a piece of meat followed by...\n",
       "8                                               colorful\n",
       "9               chicken and rice with a side of veggies \n",
       "10                                  chicken and veggies \n",
       "11              lean protein veggies fruit complex carbs\n",
       "12     a salad with a reasonable amount of dressing a...\n",
       "13     lots of vegetabls with some grains like rice a...\n",
       "14                                  green and not greasy\n",
       "15                                  chicken veggies rice\n",
       "16     not too much carbs a lot of protein healthy fa...\n",
       "17     for me usually a big piece of chicken or steak...\n",
       "18                           everything from food group \n",
       "19     lots of fruits and vegitibles not any fried foods\n",
       "20                                   rice meat vegetable\n",
       "21                                   green and colourful\n",
       "22                                      pasta veg water \n",
       "23                            protein vegetables grains \n",
       "24     a healthy meal is a lean meat with mostly vege...\n",
       "25     good portions lots of color targets main food ...\n",
       "26                   a rice a vegetable a piece of meat \n",
       "27                         salad vegetable carb protein \n",
       "28                          protein vegetable and grains\n",
       "29     grilled chicken mac and cheese broccoli apple ...\n",
       "                             ...                        \n",
       "95                      a balance of meat and vegetables\n",
       "96      modest proportions of many different food groups\n",
       "97     it combines a protein with other elements of t...\n",
       "98     well balanced with protein fruits vegetables s...\n",
       "99                       lean meat fresh fruits  veggies\n",
       "100                water fruits vegetables protein carbs\n",
       "101    more vegetables and fruits as opposed to meat ...\n",
       "102                         a protein veggies and a carb\n",
       "103    salmon sweet potato and larger portion but equ...\n",
       "104    vegetables white meat and a starch like potato...\n",
       "105    i think a healthy meals includes some kind of ...\n",
       "106    a healthy meal constitutes of balanced diet wi...\n",
       "107                to me a healthy meal is balanced and \n",
       "108    equal portions of carbs proteins and fruits/veges\n",
       "109    salad with chicken and vegetables with a raspb...\n",
       "110     it includes a protein vegetable fruit and grain \n",
       "111                       low calories plenty of veggies\n",
       "112    a pice of meat such as chicken with a side of ...\n",
       "113                  blackened chicken broccoli and milk\n",
       "114              meat greens and food containing protein\n",
       "115        intaking the proper amount of each food group\n",
       "116    bbq chicken with mash sweat potatoes and steam...\n",
       "117                    including both vegetable and meat\n",
       "118             chicken vegetables and fruit for dinner \n",
       "119    a diet that is well balanced in most of the nu...\n",
       "120    mainly protein and vegetables with a complex c...\n",
       "121    a healthy meal is a variety of food  organic f...\n",
       "122                                   lots of vegetables\n",
       "123    a protein a fruit a starch and a salad or some...\n",
       "124                   a cup of rice vegetables and meat \n",
       "Name: healthy_meal, Length: 125, dtype: object"
      ]
     },
     "execution_count": 240,
     "metadata": {},
     "output_type": "execute_result"
    }
   ],
   "source": [
    "df.healthy_meal"
   ]
  },
  {
   "cell_type": "code",
   "execution_count": 241,
   "metadata": {},
   "outputs": [
    {
     "data": {
      "text/plain": [
       "True"
      ]
     },
     "execution_count": 241,
     "metadata": {},
     "output_type": "execute_result"
    }
   ],
   "source": [
    "df.healthy_meal.isnull().any()"
   ]
  },
  {
   "cell_type": "code",
   "execution_count": 242,
   "metadata": {},
   "outputs": [],
   "source": [
    "df_healthy = df[['healthy_meal', 'healthy_feeling']]\n",
    "df_healthy = df_healthy.rename(columns={'healthy_feeling': 'target'})\n",
    "#df_healthy['target'] = df_healthy.target.astype(np.float64)"
   ]
  },
  {
   "cell_type": "code",
   "execution_count": 243,
   "metadata": {},
   "outputs": [],
   "source": [
    "df_healthy = df_healthy.dropna()"
   ]
  },
  {
   "cell_type": "code",
   "execution_count": 244,
   "metadata": {},
   "outputs": [
    {
     "data": {
      "text/plain": [
       "(124, 2)"
      ]
     },
     "execution_count": 244,
     "metadata": {},
     "output_type": "execute_result"
    }
   ],
   "source": [
    "df_healthy.shape"
   ]
  },
  {
   "cell_type": "markdown",
   "metadata": {},
   "source": [
    "## Split data in train and test"
   ]
  },
  {
   "cell_type": "code",
   "execution_count": 270,
   "metadata": {},
   "outputs": [],
   "source": [
    "from sklearn.model_selection import train_test_split\n",
    "df_train, df_test, y_train, y_test = train_test_split(df_healthy, df_healthy.target, test_size=0.2, random_state=1567, stratify=df_healthy.target)"
   ]
  },
  {
   "cell_type": "markdown",
   "metadata": {},
   "source": [
    "## Transform Train using TF-IDF"
   ]
  },
  {
   "cell_type": "code",
   "execution_count": 271,
   "metadata": {},
   "outputs": [],
   "source": [
    "from sklearn.feature_extraction.text import CountVectorizer"
   ]
  },
  {
   "cell_type": "code",
   "execution_count": 272,
   "metadata": {},
   "outputs": [
    {
     "data": {
      "text/plain": [
       "(99, 159)"
      ]
     },
     "execution_count": 272,
     "metadata": {},
     "output_type": "execute_result"
    }
   ],
   "source": [
    "count_vect = CountVectorizer(stop_words='english', )\n",
    "X_train_counts = count_vect.fit_transform(df_train.healthy_meal)\n",
    "X_train_counts.shape"
   ]
  },
  {
   "cell_type": "code",
   "execution_count": 273,
   "metadata": {},
   "outputs": [
    {
     "data": {
      "text/plain": [
       "<99x159 sparse matrix of type '<class 'numpy.int64'>'\n",
       "\twith 476 stored elements in Compressed Sparse Row format>"
      ]
     },
     "execution_count": 273,
     "metadata": {},
     "output_type": "execute_result"
    }
   ],
   "source": [
    "X_train_counts"
   ]
  },
  {
   "cell_type": "code",
   "execution_count": 274,
   "metadata": {},
   "outputs": [
    {
     "data": {
      "text/plain": [
       "(99, 159)"
      ]
     },
     "execution_count": 274,
     "metadata": {},
     "output_type": "execute_result"
    }
   ],
   "source": [
    "from sklearn.feature_extraction.text import TfidfTransformer\n",
    "tf_transformer = TfidfTransformer(use_idf=True).fit(X_train_counts)\n",
    "X_train_tfidf = tf_transformer.transform(X_train_counts)\n",
    "X_train_tfidf.shape"
   ]
  },
  {
   "cell_type": "markdown",
   "metadata": {},
   "source": [
    "## Train the model"
   ]
  },
  {
   "cell_type": "code",
   "execution_count": 275,
   "metadata": {},
   "outputs": [
    {
     "data": {
      "text/plain": [
       "RandomForestRegressor(bootstrap=True, criterion='mse', max_depth=7,\n",
       "           max_features='auto', max_leaf_nodes=None,\n",
       "           min_impurity_decrease=0.0, min_impurity_split=None,\n",
       "           min_samples_leaf=1, min_samples_split=2,\n",
       "           min_weight_fraction_leaf=0.0, n_estimators=15, n_jobs=1,\n",
       "           oob_score=False, random_state=None, verbose=0, warm_start=False)"
      ]
     },
     "execution_count": 275,
     "metadata": {},
     "output_type": "execute_result"
    }
   ],
   "source": [
    "from sklearn.ensemble import RandomForestRegressor\n",
    "clfr = RandomForestRegressor(n_estimators=15, max_depth=7)\n",
    "clfr.fit(X_train_tfidf, y_train)"
   ]
  },
  {
   "cell_type": "code",
   "execution_count": 276,
   "metadata": {},
   "outputs": [
    {
     "data": {
      "text/plain": [
       "RandomForestClassifier(bootstrap=True, class_weight=None, criterion='gini',\n",
       "            max_depth=9, max_features='auto', max_leaf_nodes=None,\n",
       "            min_impurity_decrease=0.0, min_impurity_split=None,\n",
       "            min_samples_leaf=1, min_samples_split=2,\n",
       "            min_weight_fraction_leaf=0.0, n_estimators=15, n_jobs=1,\n",
       "            oob_score=False, random_state=None, verbose=0,\n",
       "            warm_start=False)"
      ]
     },
     "execution_count": 276,
     "metadata": {},
     "output_type": "execute_result"
    }
   ],
   "source": [
    "from sklearn.ensemble import RandomForestClassifier\n",
    "clfc = RandomForestClassifier(n_estimators=15, max_depth=9)\n",
    "clfc.fit(X_train_tfidf, df_train.target)"
   ]
  },
  {
   "cell_type": "markdown",
   "metadata": {},
   "source": [
    "## Transform the test"
   ]
  },
  {
   "cell_type": "code",
   "execution_count": 277,
   "metadata": {},
   "outputs": [],
   "source": [
    "X_test_counts = count_vect.transform(df_test.healthy_meal)\n",
    "X_test_tfidf = tf_transformer.transform(X_test_counts)"
   ]
  },
  {
   "cell_type": "code",
   "execution_count": 278,
   "metadata": {},
   "outputs": [
    {
     "data": {
      "text/plain": [
       "(25, 159)"
      ]
     },
     "execution_count": 278,
     "metadata": {},
     "output_type": "execute_result"
    }
   ],
   "source": [
    "X_test_tfidf.shape"
   ]
  },
  {
   "cell_type": "code",
   "execution_count": 279,
   "metadata": {},
   "outputs": [],
   "source": [
    "y_proba_reg = clfr.predict(X_test_tfidf)\n",
    "y_pred_class = clfc.predict(X_test_tfidf)"
   ]
  },
  {
   "cell_type": "markdown",
   "metadata": {},
   "source": [
    "## Evaluate the model regression"
   ]
  },
  {
   "cell_type": "code",
   "execution_count": 280,
   "metadata": {},
   "outputs": [],
   "source": [
    "from sklearn.metrics import mean_squared_error"
   ]
  },
  {
   "cell_type": "code",
   "execution_count": 285,
   "metadata": {},
   "outputs": [
    {
     "data": {
      "text/plain": [
       "9.015613313464724"
      ]
     },
     "execution_count": 285,
     "metadata": {},
     "output_type": "execute_result"
    }
   ],
   "source": [
    "mean_squared_error(y_test, y_proba_reg)"
   ]
  },
  {
   "cell_type": "markdown",
   "metadata": {},
   "source": [
    "## Evaluate the model classifier"
   ]
  },
  {
   "cell_type": "code",
   "execution_count": 284,
   "metadata": {},
   "outputs": [
    {
     "data": {
      "text/plain": [
       "0.20000000000000004"
      ]
     },
     "execution_count": 284,
     "metadata": {},
     "output_type": "execute_result"
    }
   ],
   "source": [
    "from sklearn.metrics import f1_score\n",
    "f1_score(y_test, y_pred_class, average='micro')"
   ]
  },
  {
   "cell_type": "code",
   "execution_count": null,
   "metadata": {},
   "outputs": [],
   "source": []
  }
 ],
 "metadata": {
  "kernelspec": {
   "display_name": "Python 3",
   "language": "python",
   "name": "python3"
  },
  "language_info": {
   "codemirror_mode": {
    "name": "ipython",
    "version": 3
   },
   "file_extension": ".py",
   "mimetype": "text/x-python",
   "name": "python",
   "nbconvert_exporter": "python",
   "pygments_lexer": "ipython3",
   "version": "3.6.5"
  }
 },
 "nbformat": 4,
 "nbformat_minor": 2
}
